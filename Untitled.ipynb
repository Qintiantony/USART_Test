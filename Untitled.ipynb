{
 "cells": [
  {
   "cell_type": "code",
   "execution_count": null,
   "metadata": {
    "scrolled": true
   },
   "outputs": [
    {
     "name": "stdout",
     "output_type": "stream",
     "text": [
      "Serial port found: COM8\n",
      "b'11000000'\n",
      "b'11000000'\n",
      "b'11000000'\n",
      "b'11000000'\n",
      "b'11000000'\n",
      "b'11000000'\n",
      "b'11000000'\n",
      "b'11000000'\n",
      "b'11000000'\n",
      "b'11000000'\n",
      "b'11000000'\n",
      "b'11000000'\n",
      "b'11000000'\n",
      "b'11000000'\n",
      "b'11000000'\n",
      "b'11000000'\n",
      "b'11000000'\n",
      "b'11000000'\n",
      "b'11000000'\n",
      "b'11000000'\n",
      "b'11000000'\n",
      "b'11000000'\n",
      "b'11000000'\n",
      "b'11000000'\n",
      "b'11000000'\n",
      "b'11000000'\n",
      "b'11000000'\n",
      "b'11000000'\n",
      "b'11000000'\n",
      "b'11000000'\n"
     ]
    }
   ],
   "source": [
    "run USART.py"
   ]
  },
  {
   "cell_type": "code",
   "execution_count": 153,
   "metadata": {
    "scrolled": true
   },
   "outputs": [
    {
     "name": "stdout",
     "output_type": "stream",
     "text": [
      "91856938\n",
      "['0x42', '0x6', '0x1', '0x1', '0x1', '0x21']\n",
      "['0x45', '0x6', '0x4', '0x0', '0x81', '0x21', '0x1', '0x0', '0x22', '0x17']\n"
     ]
    }
   ],
   "source": [
    "run MDT693a.py"
   ]
  },
  {
   "cell_type": "code",
   "execution_count": 13,
   "metadata": {
    "scrolled": true
   },
   "outputs": [],
   "source": [
    "USART=serial.Serial(\"COM8\",baudrate=115200,bytesize=8,stopbits=1,parity='N',timeout=None)\n",
    "USART.close()"
   ]
  },
  {
   "cell_type": "code",
   "execution_count": 55,
   "metadata": {},
   "outputs": [
    {
     "name": "stdout",
     "output_type": "stream",
     "text": [
      "91856938\n"
     ]
    }
   ],
   "source": [
    "import serial.tools.list_ports\n",
    "import serial\n",
    "import sys\n",
    "import time\n",
    "import struct\n",
    "import numpy as np\n",
    "import matplotlib.pyplot as plt\n",
    "import matplotlib.animation as animation\n",
    "\n",
    "MDT693a=serial.Serial(\"COM5\",baudrate=115200,bytesize=8,stopbits=1,parity='N',timeout=5)\n",
    "MDT693a.setDTR(True)\n",
    "MDT693a.setRTS(True)\n",
    "MDT693a.setRTS(False)\n",
    "MDT693a.setDTR(False)\n",
    "MDT693a.write(bytes().fromhex('050000002101'))\n",
    "result=MDT693a.readall()\n",
    "serial_number=struct.unpack('<L', bytes(result[6:10]))[0]\n",
    "print(serial_number)\n",
    "MDT693a.close()"
   ]
  },
  {
   "cell_type": "code",
   "execution_count": 1,
   "metadata": {},
   "outputs": [
    {
     "name": "stdout",
     "output_type": "stream",
     "text": [
      "Decimal VendorID=1027& ProductID=64240\n",
      "\n",
      "Hexadecimal VendorID=0x403& ProductID=0xfaf0\n",
      "\n",
      "\n"
     ]
    }
   ],
   "source": [
    "import sys\n",
    "import usb.core\n",
    "dev=usb.core.find(idVendor=0x403,idProduct=0xfaf0)\n",
    "cfg=dev.get_active_configuaration()\n",
    "intf=cfg[(0,0)]"
   ]
  },
  {
   "cell_type": "code",
   "execution_count": 20,
   "metadata": {},
   "outputs": [
    {
     "data": {
      "text/plain": [
       "b'C\\x06\\x04\\x00\\xd0\\x01\\x01\\x00\\xfe\\xff'"
      ]
     },
     "execution_count": 20,
     "metadata": {},
     "output_type": "execute_result"
    }
   ],
   "source": [
    "import struct\n",
    "bytes().fromhex('43060400D0010100')+struct.pack('<H',65534)"
   ]
  },
  {
   "cell_type": "code",
   "execution_count": 54,
   "metadata": {},
   "outputs": [],
   "source": [
    "MDT693a.close()"
   ]
  },
  {
   "cell_type": "code",
   "execution_count": 30,
   "metadata": {},
   "outputs": [
    {
     "data": {
      "text/plain": [
       "b'\\x05'"
      ]
     },
     "execution_count": 30,
     "metadata": {},
     "output_type": "execute_result"
    }
   ],
   "source": [
    "'\\x05'.encode()"
   ]
  },
  {
   "cell_type": "code",
   "execution_count": 58,
   "metadata": {},
   "outputs": [],
   "source": [
    "Test.setRTS(level=False)"
   ]
  },
  {
   "cell_type": "code",
   "execution_count": 60,
   "metadata": {},
   "outputs": [
    {
     "data": {
      "text/plain": [
       "Serial<id=0x2490a7896d8, open=True>(port='COM4', baudrate=9600, bytesize=8, parity='N', stopbits=1, timeout=2, xonxoff=False, rtscts=False, dsrdtr=False)"
      ]
     },
     "execution_count": 60,
     "metadata": {},
     "output_type": "execute_result"
    }
   ],
   "source": [
    "Test"
   ]
  },
  {
   "cell_type": "code",
   "execution_count": 66,
   "metadata": {},
   "outputs": [
    {
     "name": "stdout",
     "output_type": "stream",
     "text": [
      "Test\r\n",
      "\n"
     ]
    }
   ],
   "source": [
    "data=bytes.decode(Test.readline())\n",
    "print(data)"
   ]
  },
  {
   "cell_type": "code",
   "execution_count": 51,
   "metadata": {},
   "outputs": [
    {
     "ename": "NameError",
     "evalue": "name 'long' is not defined",
     "output_type": "error",
     "traceback": [
      "\u001b[1;31m---------------------------------------------------------------------------\u001b[0m",
      "\u001b[1;31mNameError\u001b[0m                                 Traceback (most recent call last)",
      "\u001b[1;32m<ipython-input-51-abed6f23d288>\u001b[0m in \u001b[0;36m<module>\u001b[1;34m()\u001b[0m\n\u001b[1;32m----> 1\u001b[1;33m \u001b[0mlong\u001b[0m\u001b[1;33m(\u001b[0m\u001b[0mresult\u001b[0m\u001b[1;33m[\u001b[0m\u001b[1;36m6\u001b[0m\u001b[1;33m:\u001b[0m\u001b[1;36m10\u001b[0m\u001b[1;33m]\u001b[0m\u001b[1;33m)\u001b[0m\u001b[1;33m\u001b[0m\u001b[0m\n\u001b[0m",
      "\u001b[1;31mNameError\u001b[0m: name 'long' is not defined"
     ]
    }
   ],
   "source": [
    "long(result[6:10])"
   ]
  },
  {
   "cell_type": "code",
   "execution_count": 2,
   "metadata": {},
   "outputs": [],
   "source": [
    "import serial\n",
    "USART=serial.Serial(\"COM4\",baudrate=9600,bytesize=8,stopbits=1,parity='N',timeout=None)\n",
    "USART.close()"
   ]
  },
  {
   "cell_type": "code",
   "execution_count": 53,
   "metadata": {},
   "outputs": [
    {
     "data": {
      "text/plain": [
       "91856938"
      ]
     },
     "execution_count": 53,
     "metadata": {},
     "output_type": "execute_result"
    }
   ],
   "source": [
    "import struct\n",
    "struct.unpack('<L', bytes(result[6:10])) [0]"
   ]
  },
  {
   "cell_type": "code",
   "execution_count": 43,
   "metadata": {},
   "outputs": [
    {
     "data": {
      "text/plain": [
       "[3]"
      ]
     },
     "execution_count": 43,
     "metadata": {},
     "output_type": "execute_result"
    }
   ],
   "source": [
    "A[2:3]"
   ]
  },
  {
   "cell_type": "code",
   "execution_count": 121,
   "metadata": {},
   "outputs": [
    {
     "name": "stdout",
     "output_type": "stream",
     "text": [
      "['0x45', '0x6', '0x4', '0x0', '0x81', '0x21', '0x1', '0x0', '0xe', '0x0']\n"
     ]
    }
   ],
   "source": [
    " print([hex(x) for x in result])"
   ]
  },
  {
   "cell_type": "code",
   "execution_count": null,
   "metadata": {},
   "outputs": [],
   "source": []
  }
 ],
 "metadata": {
  "kernelspec": {
   "display_name": "Python 3",
   "language": "python",
   "name": "python3"
  },
  "language_info": {
   "codemirror_mode": {
    "name": "ipython",
    "version": 3
   },
   "file_extension": ".py",
   "mimetype": "text/x-python",
   "name": "python",
   "nbconvert_exporter": "python",
   "pygments_lexer": "ipython3",
   "version": "3.6.5"
  }
 },
 "nbformat": 4,
 "nbformat_minor": 2
}
